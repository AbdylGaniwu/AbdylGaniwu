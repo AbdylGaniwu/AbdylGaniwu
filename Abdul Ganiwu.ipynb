{
 "cells": [
  {
   "cell_type": "code",
   "execution_count": null,
   "id": "5dacaf8f-fbf4-41a9-ac0c-58bd2e8ab2a6",
   "metadata": {},
   "outputs": [],
   "source": [
    "class Abdul_Ganiwu:\n",
    "    def __init__(self):\n",
    "        self.name = \"Abdul Ganiwu\"\n",
    "        self.profession = \"Pharmacy Technician\"\n",
    "        self.title = \"ML/AI Engineer Enthusiast\"\n",
    "        self.contact = \"abdyl.ganiwu@gmail.com\"\n",
    "        self.linkedin = \"https://www.linkedin.com/in/abdul-ganiwu/\"\n",
    "        self.location = \"Accra, Ghana\"\n",
    "        self.learning = \"Data Science\"\n",
    "        self.collaboration_interest = \"Looking to collaborate on exciting projects and learn\"\n",
    "        self.skills = ['Python', 'HTML', 'CSS', 'JavaScript', 'Microsoft SQL Server']\n",
    "\n",
    "    def display_profile(self):\n",
    "        profile = (\n",
    "            f\"Hi 👋 I'm {self.name}\"\n",
    "            f\"Profession: {self.profession}\"\n",
    "            f\"Title: {self.title}\"\n",
    "            f\"Contact: {self.contact}\"\n",
    "            f\"LinkedIn: {self.linkedin}\"\n",
    "            f\"Location: {self.location}\"\n",
    "            f\"Currently Learning: {self.learning}\"\n",
    "            f\"Collaboration Interest: {self.collaboration_interest}\"\n",
    "            f\"Skills: {', '.join(self.skills)}\"\n",
    "        )\n",
    "        return profile\n",
    "\n",
    "if __name__ == '__main__':\n",
    "    print(AbdulGaniwu().display_profile())\n"
   ]
  }
 ],
 "metadata": {
  "kernelspec": {
   "display_name": "Python 3 (ipykernel)",
   "language": "python",
   "name": "python3"
  },
  "language_info": {
   "codemirror_mode": {
    "name": "ipython",
    "version": 3
   },
   "file_extension": ".py",
   "mimetype": "text/x-python",
   "name": "python",
   "nbconvert_exporter": "python",
   "pygments_lexer": "ipython3",
   "version": "3.12.3"
  }
 },
 "nbformat": 4,
 "nbformat_minor": 5
}
